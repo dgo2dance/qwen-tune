{
  "nbformat": 4,
  "nbformat_minor": 0,
  "metadata": {
    "colab": {
      "provenance": [],
      "include_colab_link": true
    },
    "kernelspec": {
      "name": "python3",
      "display_name": "Python 3"
    },
    "language_info": {
      "name": "python"
    }
  },
  "cells": [
    {
      "cell_type": "markdown",
      "metadata": {
        "id": "view-in-github",
        "colab_type": "text"
      },
      "source": [
        "<a href=\"https://colab.research.google.com/github/dgo2dance/qwen-tune/blob/main/011-video_crop.ipynb\" target=\"_parent\"><img src=\"https://colab.research.google.com/assets/colab-badge.svg\" alt=\"Open In Colab\"/></a>"
      ]
    },
    {
      "cell_type": "markdown",
      "source": [
        "## Crop Videos"
      ],
      "metadata": {
        "id": "GHzV5LzT7whr"
      }
    },
    {
      "cell_type": "code",
      "execution_count": null,
      "metadata": {
        "id": "ErCm5B9-ook4"
      },
      "outputs": [],
      "source": [
        "import os\n",
        "from moviepy.editor import VideoFileClip\n",
        "\n",
        "def crop_video_top(input_file, output_file):\n",
        "    \"\"\"Crops the top 10% of a video, preserves original audio.\"\"\"\n",
        "\n",
        "    with VideoFileClip(input_file) as video:\n",
        "        height = video.h\n",
        "        crop_region = video.crop(y1=height * 0.1, height=height * 0.9)  # Crop top 10%\n",
        "\n",
        "        # Extract audio\n",
        "        audio = video.audio\n",
        "\n",
        "        # Add audio to the cropped video\n",
        "        crop_region = crop_region.set_audio(audio)\n",
        "\n",
        "        crop_region.write_videofile(output_file)\n",
        "\n",
        "# Get all video files in the current directory\n",
        "video_files = [f for f in os.listdir('.') if f.endswith(('.mp4', '.mov', '.avi', '.webm'))]\n",
        "\n",
        "# Process each video\n",
        "for video_file in video_files:\n",
        "    output_file_name = f\"cropped_{video_file}\"\n",
        "    crop_video_top(video_file, output_file_name)\n"
      ]
    },
    {
      "cell_type": "markdown",
      "source": [
        "## Stores in folder to zip"
      ],
      "metadata": {
        "id": "1pU9oX-9728V"
      }
    },
    {
      "cell_type": "code",
      "source": [
        "import os\n",
        "import shutil\n",
        "\n",
        "source_dir = '/content/'\n",
        "dest_dir = '/content/cropped_files/'\n",
        "\n",
        "# Create the destination directory if it doesn't exist\n",
        "os.makedirs(dest_dir, exist_ok=True)\n",
        "\n",
        "for filename in os.listdir(source_dir):\n",
        "    if filename.startswith('cropped'):\n",
        "        full_file_path = os.path.join(source_dir, filename)\n",
        "        # Check if it's a file, not a directory\n",
        "        if os.path.isfile(full_file_path):\n",
        "            # Remove 'cropped_' and split the filename and extension\n",
        "            name, ext = os.path.splitext(filename.replace('cropped_', ''))\n",
        "\n",
        "            # Construct the new filename\n",
        "            new_filename = f\"Nbiish - {name} - with lyrics{ext}\"\n",
        "\n",
        "            # Move the file to the destination directory with the new filename\n",
        "            shutil.move(full_file_path, os.path.join(dest_dir, new_filename))\n"
      ],
      "metadata": {
        "id": "eB3e-1wdsaN1"
      },
      "execution_count": null,
      "outputs": []
    },
    {
      "cell_type": "markdown",
      "source": [
        "## download zip"
      ],
      "metadata": {
        "id": "z2su6UOd79Bh"
      }
    },
    {
      "cell_type": "code",
      "source": [
        "!zip -r /content/cropped_files.zip /content/cropped_files/\n",
        "from google.colab import files\n",
        "files.download('/content/cropped_files.zip')\n"
      ],
      "metadata": {
        "id": "p4tPfGoVscx4"
      },
      "execution_count": null,
      "outputs": []
    },
    {
      "cell_type": "markdown",
      "source": [
        "## remove the files to repeat process.\n",
        "## drop files into \"content\""
      ],
      "metadata": {
        "id": "R-EbHgfnFJG9"
      }
    },
    {
      "cell_type": "code",
      "source": [
        "%rm -r *"
      ],
      "metadata": {
        "id": "RKI35fS4F0D4"
      },
      "execution_count": null,
      "outputs": []
    }
  ]
}