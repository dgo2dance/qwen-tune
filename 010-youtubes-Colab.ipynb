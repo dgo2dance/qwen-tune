{
  "cells": [
    {
      "cell_type": "markdown",
      "metadata": {
        "id": "view-in-github",
        "colab_type": "text"
      },
      "source": [
        "<a href=\"https://colab.research.google.com/github/dgo2dance/qwen-tune/blob/main/010-youtubes-Colab.ipynb\" target=\"_parent\"><img src=\"https://colab.research.google.com/assets/colab-badge.svg\" alt=\"Open In Colab\"/></a>"
      ]
    },
    {
      "cell_type": "code",
      "execution_count": null,
      "metadata": {
        "id": "7RomxmJkjnqE"
      },
      "outputs": [],
      "source": [
        "# Check GPU configuration\n",
        "!nvidia-smi"
      ]
    },
    {
      "cell_type": "markdown",
      "metadata": {
        "id": "vu-XmSvFj1gg"
      },
      "source": [
        "#1. 克隆仓库\n",
        "> https://gitee.com/duanshuyong/youtube2s.git"
      ]
    },
    {
      "cell_type": "code",
      "execution_count": null,
      "metadata": {
        "id": "f2PYE5UE4cCc",
        "cellView": "form"
      },
      "outputs": [],
      "source": [
        "#@title STEP 1 複製儲存庫並安裝必要的函式庫\n",
        "# @markdown\n",
        "%cd /content/\n",
        "! rm -rf  /content/youtube2s/\n",
        "!git clone https://gitee.com/duanshuyong/youtube2s.git\n",
        "\n",
        "%cd ./youtube2s\n",
        "\n",
        "!pip install -r requirements.txt\n",
        "!pip install TTS\n",
        "!pip uninstall numpy --yes\n",
        "!pip install numpy==1.23.1\n",
        "# !pip uninstall numpy\n",
        "# !pip install numpy\n",
        "\n",
        "# !conda install -r requirements.txt\n",
        "\n",
        "# #用比較殘暴的方式開啟 Gradio 的分享連結\n",
        "# train_web_py_file_path = \"./src/train_web.py\"\n",
        "# try:\n",
        "#   with open(train_web_py_file_path, 'r') as file:\n",
        "#     file_content = file.read()\n",
        "#   modified_content = file_content.replace(\"share=False\", \"share=True\")\n",
        "#   with open(train_web_py_file_path, 'w') as file:\n",
        "#     file.write(modified_content)\n",
        "# except Exception as e:\n",
        "#     print(f'ERROR: {str(e)}')"
      ]
    },
    {
      "cell_type": "code",
      "source": [
        "# !wget -c https://repo.continuum.io/miniconda/Miniconda3-latest-Linux-x86_64.sh\n",
        "# !chmod +x Miniconda3-latest-Linux-x86_64.sh\n",
        "# !bash ./Miniconda3-latest-Linux-x86_64.sh -b -f -p /usr/local #-p indicates where you want to install"
      ],
      "metadata": {
        "id": "UvsVh6T-Mobn"
      },
      "execution_count": null,
      "outputs": []
    },
    {
      "cell_type": "code",
      "source": [
        "#!pip install cudatoolkit==11.7\n",
        "# !sudo cp /usr/local/lib/python3.10/dist-packages/nvidia/cuda_runtime/lib/libcudart.so.11.0 /usr/local/cuda-12.2/lib64/libcudart.so.11.0\n",
        "\n",
        "# !conda install cudatoolkit"
      ],
      "metadata": {
        "id": "B39xBfffBd8R"
      },
      "execution_count": null,
      "outputs": []
    },
    {
      "cell_type": "code",
      "source": [
        "# !conda install --yes --file  requirements.txt\n",
        "# !pip uninstall numpy --yes\n",
        "# !pip install numpy==1.23.1\n",
        "# !pip uninstall numpy\n",
        "# !pip install numpy\n",
        "\n"
      ],
      "metadata": {
        "id": "9USds8yMNezv"
      },
      "execution_count": null,
      "outputs": []
    },
    {
      "cell_type": "code",
      "source": [
        "# !sudo cp /usr/local/lib/python3.10/dist-packages/nvidia/cublas/lib/libcublas.so.11 /usr/local/cuda-12.2/lib64/libcublas.so.11\n"
      ],
      "metadata": {
        "id": "a6_6rcQvHLzp"
      },
      "execution_count": null,
      "outputs": []
    },
    {
      "cell_type": "code",
      "source": [
        "!pip install git+https://github.com/m-bain/whisperx.git@d6562c26da467ca49866a4173c0e723f3837f367\n",
        "!pip install --upgrade faster-whisper==1.0.0"
      ],
      "metadata": {
        "id": "-C4IRD8Wj9dZ"
      },
      "execution_count": null,
      "outputs": []
    },
    {
      "cell_type": "code",
      "source": [
        "!pip install  faster-whisper==1.0.0"
      ],
      "metadata": {
        "id": "qMcbPiAKkvPB"
      },
      "execution_count": null,
      "outputs": []
    },
    {
      "cell_type": "code",
      "source": [
        "!pip list"
      ],
      "metadata": {
        "id": "xv9dpg--kH1Q"
      },
      "execution_count": null,
      "outputs": []
    },
    {
      "cell_type": "code",
      "source": [
        "%cd /content/youtube2s\n",
        "! python app.py"
      ],
      "metadata": {
        "id": "dXDuirW959WW"
      },
      "execution_count": null,
      "outputs": []
    },
    {
      "cell_type": "code",
      "source": [
        "!sudo find / -name 'libcublas.so.11'\n",
        "# /usr/local/lib/python3.10/dist-packages/nvidia/cuda_runtime/lib/libcudart.so.11.0\n",
        "# sudo cp /usr/local/cuda-12.2/lib64/libcudart.so.12 /usr/local/cuda-12.2/lib64/libcudart.so.11.0\n",
        "# sudo cp /usr/local/lib/python3.10/dist-packages/nvidia/cuda_runtime/lib/libcudart.so.11.0 /usr/local/cuda-12.2/lib64/libcudart.so.11.0\n",
        "#\n"
      ],
      "metadata": {
        "id": "q1_Q2zBCAvHw"
      },
      "execution_count": null,
      "outputs": []
    },
    {
      "cell_type": "code",
      "source": [
        "%cd /usr/local/cuda-12.2/lib64/\n",
        "# %cd /usr/local/lib/python3.10/dist-packages/nvidia/cublas/lib/\n",
        "!ls"
      ],
      "metadata": {
        "id": "S8HKgZrgDwhk"
      },
      "execution_count": null,
      "outputs": []
    },
    {
      "cell_type": "code",
      "source": [
        "!sudo vim /etc/profile"
      ],
      "metadata": {
        "id": "s6Wd_sUIA-3t"
      },
      "execution_count": null,
      "outputs": []
    },
    {
      "cell_type": "code",
      "source": [
        "! pip list\n"
      ],
      "metadata": {
        "id": "SCqOq-XoZBkR"
      },
      "execution_count": null,
      "outputs": []
    },
    {
      "cell_type": "code",
      "source": [],
      "metadata": {
        "id": "EwzJxqQp6euI"
      },
      "execution_count": null,
      "outputs": []
    },
    {
      "cell_type": "code",
      "execution_count": null,
      "metadata": {
        "id": "2StL2Wqt0MAt"
      },
      "outputs": [],
      "source": [
        "#@title STEP 4.1 連接Google Drive\n",
        "from google.colab import drive\n",
        "drive.mount('/content/drive')"
      ]
    },
    {
      "cell_type": "code",
      "execution_count": null,
      "metadata": {
        "id": "72nLh_L50g74"
      },
      "outputs": [],
      "source": [
        "#@title STEP 4.2 複製檔案到Google Drive\n",
        "Google_Drive_Folder = \"/content/drive/MyDrive/LLaMA-Factory/\" #@param {type:\"string\"}\n",
        "\n",
        "!cp -rf /content/LLaMA-Factory/saves {Google_Drive_Folder}"
      ]
    }
  ],
  "metadata": {
    "accelerator": "GPU",
    "colab": {
      "provenance": [],
      "gpuType": "T4",
      "toc_visible": true,
      "include_colab_link": true
    },
    "kernelspec": {
      "display_name": "Python 3",
      "name": "python3"
    },
    "language_info": {
      "name": "python"
    }
  },
  "nbformat": 4,
  "nbformat_minor": 0
}