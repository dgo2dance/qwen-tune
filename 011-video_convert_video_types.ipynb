{
  "nbformat": 4,
  "nbformat_minor": 0,
  "metadata": {
    "colab": {
      "provenance": [],
      "include_colab_link": true
    },
    "kernelspec": {
      "name": "python3",
      "display_name": "Python 3"
    },
    "language_info": {
      "name": "python"
    }
  },
  "cells": [
    {
      "cell_type": "markdown",
      "metadata": {
        "id": "view-in-github",
        "colab_type": "text"
      },
      "source": [
        "<a href=\"https://colab.research.google.com/github/dgo2dance/qwen-tune/blob/main/011-video_convert_video_types.ipynb\" target=\"_parent\"><img src=\"https://colab.research.google.com/assets/colab-badge.svg\" alt=\"Open In Colab\"/></a>"
      ]
    },
    {
      "cell_type": "markdown",
      "source": [
        "# Start colab"
      ],
      "metadata": {
        "id": "PfHd67Ua1NXO"
      }
    },
    {
      "cell_type": "code",
      "source": [
        "import os\n",
        "import subprocess\n",
        "!apt update && !apt install ffmpeg"
      ],
      "metadata": {
        "id": "xEwBBFrDykyb"
      },
      "execution_count": null,
      "outputs": []
    },
    {
      "cell_type": "markdown",
      "source": [
        "# Converts .mkv files to .mp4"
      ],
      "metadata": {
        "id": "GD2dVLXo1Uw4"
      }
    },
    {
      "cell_type": "code",
      "execution_count": null,
      "metadata": {
        "id": "x8fddOgGxyJT"
      },
      "outputs": [],
      "source": [
        "# Iterate through files in the current directory\n",
        "for filename in os.listdir('.'):\n",
        "  if filename.endswith('.mkv'):\n",
        "    # Construct output filename (replace '.mkv' with '.mp4')\n",
        "    output_filename = filename[:-4] + '.mp4'\n",
        "\n",
        "    # Build the FFmpeg command\n",
        "    command = ['ffmpeg', '-i', filename, '-codec', 'copy', output_filename]\n",
        "\n",
        "    # Execute the conversion process\n",
        "    subprocess.run(command)\n",
        "    print(f'Converted {filename} to {output_filename}')\n"
      ]
    },
    {
      "cell_type": "markdown",
      "source": [
        "# Next conversion need?.."
      ],
      "metadata": {
        "id": "M-DEfXIu2IHL"
      }
    },
    {
      "cell_type": "code",
      "source": [
        "# ...one day..."
      ],
      "metadata": {
        "id": "C8nGBBeg2HKt"
      },
      "execution_count": null,
      "outputs": []
    }
  ]
}